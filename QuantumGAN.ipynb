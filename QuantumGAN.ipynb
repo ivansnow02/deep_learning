{
 "cells": [
  {
   "cell_type": "code",
   "execution_count": 3,
   "metadata": {
    "colab": {
     "base_uri": "https://localhost:8080/"
    },
    "id": "SH9-G-1x03_z",
    "outputId": "4e51e3fb-f60b-4c7a-c924-b5ac228bb439"
   },
   "outputs": [
    {
     "name": "stdout",
     "output_type": "stream",
     "text": [
      "Requirement already satisfied: pennylane in ./torch/lib/python3.11/site-packages (0.40.0)\n",
      "Requirement already satisfied: pennylane-lightning-gpu in ./torch/lib/python3.11/site-packages (0.40.0)\n",
      "Requirement already satisfied: numpy<2.1 in ./torch/lib/python3.11/site-packages (from pennylane) (1.23.5)\n",
      "Requirement already satisfied: scipy in ./torch/lib/python3.11/site-packages (from pennylane) (1.10.1)\n",
      "Requirement already satisfied: networkx in ./torch/lib/python3.11/site-packages (from pennylane) (3.3)\n",
      "Requirement already satisfied: rustworkx>=0.14.0 in ./torch/lib/python3.11/site-packages (from pennylane) (0.16.0)\n",
      "Requirement already satisfied: autograd in ./torch/lib/python3.11/site-packages (from pennylane) (1.7.0)\n",
      "Requirement already satisfied: tomlkit in ./torch/lib/python3.11/site-packages (from pennylane) (0.13.2)\n",
      "Requirement already satisfied: appdirs in ./torch/lib/python3.11/site-packages (from pennylane) (1.4.4)\n",
      "Requirement already satisfied: autoray>=0.6.11 in ./torch/lib/python3.11/site-packages (from pennylane) (0.7.1)\n",
      "Requirement already satisfied: cachetools in ./torch/lib/python3.11/site-packages (from pennylane) (5.5.2)\n",
      "Requirement already satisfied: pennylane-lightning>=0.40 in ./torch/lib/python3.11/site-packages (from pennylane) (0.40.0)\n",
      "Requirement already satisfied: requests in ./torch/lib/python3.11/site-packages (from pennylane) (2.31.0)\n",
      "Requirement already satisfied: typing-extensions in ./torch/lib/python3.11/site-packages (from pennylane) (4.12.2)\n",
      "Requirement already satisfied: packaging in ./torch/lib/python3.11/site-packages (from pennylane) (24.2)\n",
      "Requirement already satisfied: diastatic-malt in ./torch/lib/python3.11/site-packages (from pennylane) (2.15.2)\n",
      "Requirement already satisfied: scipy-openblas32>=0.3.26 in ./torch/lib/python3.11/site-packages (from pennylane-lightning-gpu) (0.3.29.0.0)\n",
      "Requirement already satisfied: custatevec-cu12 in ./torch/lib/python3.11/site-packages (from pennylane-lightning-gpu) (1.8.0)\n",
      "Requirement already satisfied: nvidia-nvjitlink-cu12 in ./torch/lib/python3.11/site-packages (from pennylane-lightning-gpu) (12.6.85)\n",
      "Requirement already satisfied: nvidia-cusparse-cu12 in ./torch/lib/python3.11/site-packages (from pennylane-lightning-gpu) (12.5.4.2)\n",
      "Requirement already satisfied: nvidia-cublas-cu12 in ./torch/lib/python3.11/site-packages (from pennylane-lightning-gpu) (12.6.4.1)\n",
      "Requirement already satisfied: nvidia-cuda-runtime-cu12 in ./torch/lib/python3.11/site-packages (from pennylane-lightning-gpu) (12.6.77)\n",
      "Requirement already satisfied: astunparse in ./torch/lib/python3.11/site-packages (from diastatic-malt->pennylane) (1.6.3)\n",
      "Requirement already satisfied: gast in ./torch/lib/python3.11/site-packages (from diastatic-malt->pennylane) (0.6.0)\n",
      "Requirement already satisfied: termcolor in ./torch/lib/python3.11/site-packages (from diastatic-malt->pennylane) (3.0.1)\n",
      "Requirement already satisfied: charset-normalizer<4,>=2 in ./torch/lib/python3.11/site-packages (from requests->pennylane) (3.4.1)\n",
      "Requirement already satisfied: idna<4,>=2.5 in ./torch/lib/python3.11/site-packages (from requests->pennylane) (3.10)\n",
      "Requirement already satisfied: urllib3<3,>=1.21.1 in ./torch/lib/python3.11/site-packages (from requests->pennylane) (2.3.0)\n",
      "Requirement already satisfied: certifi>=2017.4.17 in ./torch/lib/python3.11/site-packages (from requests->pennylane) (2025.1.31)\n",
      "Requirement already satisfied: wheel<1.0,>=0.23.0 in ./torch/lib/python3.11/site-packages (from astunparse->diastatic-malt->pennylane) (0.45.1)\n",
      "Requirement already satisfied: six<2.0,>=1.6.1 in ./torch/lib/python3.11/site-packages (from astunparse->diastatic-malt->pennylane) (1.17.0)\n",
      "Note: you may need to restart the kernel to use updated packages.\n"
     ]
    }
   ],
   "source": [
    "%pip install pennylane pennylane-lightning-gpu"
   ]
  },
  {
   "cell_type": "code",
   "execution_count": 3,
   "metadata": {
    "id": "BXi9A-6j0ehm"
   },
   "outputs": [],
   "source": [
    "# Library imports\n",
    "import math\n",
    "import random\n",
    "import numpy as np\n",
    "import pandas as pd\n",
    "import matplotlib.pyplot as plt\n",
    "import matplotlib.gridspec as gridspec\n",
    "import pennylane as qml\n",
    "\n",
    "# Pytorch imports\n",
    "import torch\n",
    "import torch.nn as nn\n",
    "import torch.optim as optim\n",
    "import torchvision\n",
    "import torchvision.transforms as transforms\n",
    "from torch.utils.data import Dataset, DataLoader\n",
    "\n",
    "# Set the random seed for reproducibility\n",
    "seed = 42\n",
    "torch.manual_seed(seed)\n",
    "np.random.seed(seed)\n",
    "random.seed(seed)"
   ]
  },
  {
   "cell_type": "markdown",
   "metadata": {
    "id": "qE5CZrdT1mv9"
   },
   "source": [
    "## 导入手写数字数据集"
   ]
  },
  {
   "cell_type": "code",
   "execution_count": 5,
   "metadata": {
    "colab": {
     "base_uri": "https://localhost:8080/"
    },
    "id": "oP66hDmh1f10",
    "outputId": "67ed04ee-8a5f-4282-de47-f1a9c9c72c02"
   },
   "outputs": [
    {
     "name": "stdout",
     "output_type": "stream",
     "text": [
      "Requirement already satisfied: ucimlrepo in ./torch/lib/python3.11/site-packages (0.0.7)\n",
      "Requirement already satisfied: pandas>=1.0.0 in ./torch/lib/python3.11/site-packages (from ucimlrepo) (2.0.3)\n",
      "Requirement already satisfied: certifi>=2020.12.5 in ./torch/lib/python3.11/site-packages (from ucimlrepo) (2025.1.31)\n",
      "Requirement already satisfied: python-dateutil>=2.8.2 in ./torch/lib/python3.11/site-packages (from pandas>=1.0.0->ucimlrepo) (2.9.0.post0)\n",
      "Requirement already satisfied: pytz>=2020.1 in ./torch/lib/python3.11/site-packages (from pandas>=1.0.0->ucimlrepo) (2025.1)\n",
      "Requirement already satisfied: tzdata>=2022.1 in ./torch/lib/python3.11/site-packages (from pandas>=1.0.0->ucimlrepo) (2025.2)\n",
      "Requirement already satisfied: numpy>=1.21.0 in ./torch/lib/python3.11/site-packages (from pandas>=1.0.0->ucimlrepo) (1.23.5)\n",
      "Requirement already satisfied: six>=1.5 in ./torch/lib/python3.11/site-packages (from python-dateutil>=2.8.2->pandas>=1.0.0->ucimlrepo) (1.17.0)\n",
      "Note: you may need to restart the kernel to use updated packages.\n"
     ]
    }
   ],
   "source": [
    "%pip install ucimlrepo"
   ]
  },
  {
   "cell_type": "code",
   "execution_count": 2,
   "metadata": {
    "colab": {
     "base_uri": "https://localhost:8080/"
    },
    "id": "hD97tIOk1kwY",
    "outputId": "1912c8a7-e2bf-4191-c2a6-f26ef1f92b8d"
   },
   "outputs": [
    {
     "name": "stdout",
     "output_type": "stream",
     "text": [
      "(5620, 64)\n",
      "(5620, 1)\n"
     ]
    }
   ],
   "source": [
    "from ucimlrepo import fetch_ucirepo\n",
    "\n",
    "# fetch dataset\n",
    "optical_recognition_of_handwritten_digits = fetch_ucirepo(id=80)\n",
    "\n",
    "X = optical_recognition_of_handwritten_digits.data.features\n",
    "y = optical_recognition_of_handwritten_digits.data.targets\n",
    "print(X.shape)\n",
    "print(y.shape)\n",
    "if hasattr(X, \"values\"):\n",
    "    X = X.values\n",
    "if hasattr(y, \"values\"):\n",
    "    y = y.values\n"
   ]
  },
  {
   "cell_type": "code",
   "execution_count": 3,
   "metadata": {
    "id": "aTfVuS196Dvw"
   },
   "outputs": [],
   "source": [
    "import torch\n",
    "from torch.utils.data import Dataset\n",
    "import numpy as np\n",
    "\n",
    "\n",
    "class DigitsDataset(Dataset):\n",
    "    \"\"\"Pytorch Dataset for the Optical Recognition of Handwritten Digits Data Set\"\"\"\n",
    "\n",
    "    def __init__(self, X, y, label=0, transform=None):\n",
    "        \"\"\"\n",
    "        Args:\n",
    "            X (array-like): Feature data.\n",
    "            y (array-like): Target labels.\n",
    "            label (int): The label to filter for (only keep images of this digit).\n",
    "            transform (callable, optional): Optional transform to be applied on a sample.\n",
    "        \"\"\"\n",
    "        self.transform = transform\n",
    "\n",
    "        # Convert to numpy arrays if they're pandas DataFrames\n",
    "        if hasattr(X, \"values\"):\n",
    "            X = X.values\n",
    "        if hasattr(y, \"values\"):\n",
    "            y = y.values\n",
    "\n",
    "        # Ensure y is a 1D array\n",
    "        if len(y.shape) > 1:\n",
    "            y = y.flatten()\n",
    "\n",
    "        # Filter samples by label\n",
    "        mask = y == label\n",
    "\n",
    "        # Apply the mask only along the first dimension (samples)\n",
    "        self.images = X[mask]\n",
    "        self.labels = np.full(\n",
    "            len(self.images), label\n",
    "        )  # All labels are the same (label)\n",
    "\n",
    "    def __len__(self):\n",
    "        return len(self.images)\n",
    "\n",
    "    def __getitem__(self, idx):\n",
    "        if torch.is_tensor(idx):\n",
    "            idx = idx.tolist()\n",
    "\n",
    "        image = self.images[idx] / 16.0  # Normalize\n",
    "        image = np.array(image, dtype=np.float32).reshape(8, 8)\n",
    "\n",
    "        if self.transform:\n",
    "            image = self.transform(image)\n",
    "\n",
    "        # Return image and label (which is always 'label')\n",
    "        return image, int(self.labels[idx])"
   ]
  },
  {
   "cell_type": "code",
   "execution_count": null,
   "metadata": {
    "id": "dzPxmE8r3AfB"
   },
   "outputs": [
    {
     "ename": "NameError",
     "evalue": "name 'DigitsDataset' is not defined",
     "output_type": "error",
     "traceback": [
      "\u001b[31m---------------------------------------------------------------------------\u001b[39m",
      "\u001b[31mNameError\u001b[39m                                 Traceback (most recent call last)",
      "\u001b[36mCell\u001b[39m\u001b[36m \u001b[39m\u001b[32mIn[23]\u001b[39m\u001b[32m, line 4\u001b[39m\n\u001b[32m      2\u001b[39m batch_size = \u001b[32m1\u001b[39m\n\u001b[32m      3\u001b[39m transform = transforms.Compose([transforms.ToTensor()])\n\u001b[32m----> \u001b[39m\u001b[32m4\u001b[39m dataset = \u001b[43mDigitsDataset\u001b[49m(X, y, transform=transform, label=\u001b[32m3\u001b[39m)\n\u001b[32m      6\u001b[39m dataloader = torch.utils.data.DataLoader(\n\u001b[32m      7\u001b[39m     dataset, batch_size=batch_size, shuffle=\u001b[38;5;28;01mTrue\u001b[39;00m, drop_last=\u001b[38;5;28;01mTrue\u001b[39;00m\n\u001b[32m      8\u001b[39m )\n",
      "\u001b[31mNameError\u001b[39m: name 'DigitsDataset' is not defined"
     ]
    }
   ],
   "source": [
    "image_size = 8\n",
    "batch_size = 1\n",
    "transform = transforms.Compose([transforms.ToTensor()])\n",
    "dataset = DigitsDataset(X, y, transform=transform, label=3)\n",
    "\n",
    "dataloader = torch.utils.data.DataLoader(\n",
    "    dataset, batch_size=batch_size, shuffle=True, drop_last=True\n",
    ")"
   ]
  },
  {
   "cell_type": "code",
   "execution_count": 5,
   "metadata": {
    "colab": {
     "base_uri": "https://localhost:8080/",
     "height": 102
    },
    "id": "y8r8oke33zA8",
    "outputId": "d5c3897b-a1ed-4031-8dae-5713f740e139"
   },
   "outputs": [
    {
     "data": {
      "image/png": "[encoded data removed]",
      "text/plain": [
       "<Figure size 800x200 with 8 Axes>"
      ]
     },
     "metadata": {},
     "output_type": "display_data"
    }
   ],
   "source": [
    "plt.figure(figsize=(8, 2))\n",
    "\n",
    "for i in range(8):\n",
    "    image = dataset[i][0].reshape(image_size, image_size)\n",
    "    plt.subplot(1, 8, i + 1)\n",
    "    plt.axis(\"off\")\n",
    "    plt.imshow(image.numpy(), cmap=\"gray\")\n",
    "\n",
    "plt.show()"
   ]
  },
  {
   "cell_type": "markdown",
   "metadata": {},
   "source": [
    "## 导入脸\n"
   ]
  },
  {
   "cell_type": "code",
   "execution_count": null,
   "metadata": {},
   "outputs": [
    {
     "data": {
      "application/vnd.jupyter.widget-view+json": {
       "model_id": "d1330076960a4d4e9737b5c4e23b79c3",
       "version_major": 2,
       "version_minor": 0
      },
      "text/plain": [
       "Resolving data files:   0%|          | 0/21551 [00:00<?, ?it/s]"
      ]
     },
     "metadata": {},
     "output_type": "display_data"
    },
    {
     "name": "stdout",
     "output_type": "stream",
     "text": [
      "<module 'datasets' from '/home/ivansnow02/deep_learning/torch/lib/python3.11/site-packages/datasets/__init__.py'>\n"
     ]
    }
   ],
   "source": [
    "import datasets\n",
    "# load dataset from local directory \"img/anime_face/data/\"\n",
    "ds= datasets.load_dataset(\"img/anime_face/data/\")\n",
    "# Check the dataset\n"
   ]
  },
  {
   "cell_type": "code",
   "execution_count": 86,
   "metadata": {},
   "outputs": [
    {
     "name": "stdout",
     "output_type": "stream",
     "text": [
      "Dataset({\n",
      "    features: ['image'],\n",
      "    num_rows: 21551\n",
      "})\n"
     ]
    }
   ],
   "source": [
    "print(ds[\"train\"])"
   ]
  },
  {
   "cell_type": "code",
   "execution_count": 87,
   "metadata": {},
   "outputs": [
    {
     "data": {
      "application/vnd.jupyter.widget-view+json": {
       "model_id": "3489fa015fcf4a0abcd32a273bce73c5",
       "version_major": 2,
       "version_minor": 0
      },
      "text/plain": [
       "Map:   0%|          | 0/21551 [00:00<?, ? examples/s]"
      ]
     },
     "metadata": {},
     "output_type": "display_data"
    }
   ],
   "source": [
    "from torchvision.transforms.functional import to_pil_image\n",
    "\n",
    "\n",
    "def apply_transform(example):\n",
    "    # 如果图像已经是 Tensor，则转为 PIL Image\n",
    "    if isinstance(example[\"image\"], torch.Tensor):\n",
    "        example[\"image\"] = to_pil_image(example[\"image\"])\n",
    "    example[\"image\"] = transform_anime(example[\"image\"])\n",
    "    return example\n",
    "\n",
    "\n",
    "transform_anime = transforms.Compose([\n",
    "    transforms.Grayscale(num_output_channels=1),\n",
    "    transforms.Resize((image_size, image_size)),\n",
    "    transforms.ToTensor(),\n",
    "])\n",
    "\n",
    "# 应用转换\n",
    "ds[\"train\"] = ds[\"train\"].map(apply_transform)\n",
    "\n",
    "# 修改格式为 torch 格式\n",
    "ds[\"train\"].set_format(type=\"torch\", columns=[\"image\"])\n",
    "train_dataset = ds[\"train\"]\n",
    "\n",
    "# 构建 DataLoader\n",
    "dataloader = DataLoader(train_dataset, batch_size=4, shuffle=True)"
   ]
  },
  {
   "cell_type": "code",
   "execution_count": 89,
   "metadata": {},
   "outputs": [
    {
     "name": "stdout",
     "output_type": "stream",
     "text": [
      "torch.Size([4, 1, 64, 64])\n"
     ]
    },
    {
     "data": {
      "image/png": "[encoded data removed]",
      "text/plain": [
       "<Figure size 800x800 with 4 Axes>"
      ]
     },
     "metadata": {},
     "output_type": "display_data"
    }
   ],
   "source": [
    "image_size = 64\n",
    "batch_size = 4\n",
    "\n",
    "# 取出一个 batch，并通过键获取图片 Tensor\n",
    "for batch in dataloader:\n",
    "    images = batch[\n",
    "        \"image\"\n",
    "    ]  # images 的形状通常为 [batch_size, C, H, W]，例如 torch.Size([4, 3, 64, 64])\n",
    "    print(images.shape)\n",
    "    break\n",
    "\n",
    "# show the first 4 images\n",
    "plt.figure(figsize=(8, 8))\n",
    "for i in range(4):\n",
    "    image = images[i].permute(1, 2, 0)  # 将通道维移动到最后\n",
    "    plt.subplot(2, 2, i + 1)\n",
    "    plt.axis(\"off\")\n",
    "    plt.imshow(image.numpy())\n",
    "plt.show()"
   ]
  },
  {
   "cell_type": "markdown",
   "metadata": {
    "id": "83q1o_L3CfBD"
   },
   "source": [
    "## 判别器\n"
   ]
  },
  {
   "cell_type": "code",
   "execution_count": 90,
   "metadata": {
    "id": "ayzjfxaICkfB"
   },
   "outputs": [],
   "source": [
    "class ConvDiscriminator(nn.Module):\n",
    "    \"\"\"Fully connected classical discriminator\"\"\"\n",
    "\n",
    "    def __init__(self, dropout_rate=0.3):\n",
    "        super().__init__()\n",
    "        self.model = nn.Sequential(\n",
    "            # 输入为 (batch, 1, 8, 8)\n",
    "            nn.Conv2d(1, 32, kernel_size=3, stride=2, padding=1),  # 输出 (32, 4, 4)\n",
    "            nn.LeakyReLU(0.2, inplace=True),\n",
    "            nn.Dropout2d(dropout_rate),\n",
    "            nn.Conv2d(32, 64, kernel_size=3, stride=1, padding=1),  # 输出 (64, 4, 4)\n",
    "            nn.BatchNorm2d(64),\n",
    "            nn.LeakyReLU(0.2, inplace=True),\n",
    "            nn.Dropout2d(dropout_rate),\n",
    "            nn.Flatten(),  # 展平为 (batch, 64*4*4)\n",
    "            nn.Linear(64 * 4 * 4, 1),\n",
    "            nn.Sigmoid(),\n",
    "        )\n",
    "\n",
    "    def forward(self, x):\n",
    "        return self.model(x)"
   ]
  },
  {
   "cell_type": "code",
   "execution_count": 91,
   "metadata": {},
   "outputs": [],
   "source": [
    "class Discriminator(nn.Module):\n",
    "    \"\"\"Fully connected classical discriminator\"\"\"\n",
    "\n",
    "    def __init__(self, dropout_rate=0.3):\n",
    "        super().__init__()\n",
    "\n",
    "        self.model = nn.Sequential(\n",
    "            # Inputs to first hidden layer (num_input_features -> 64)\n",
    "            nn.Linear(image_size * image_size, 64),\n",
    "            nn.LeakyReLU(0.2),  # LeakyReLU 比 ReLU 更适合 GAN\n",
    "            nn.Dropout(dropout_rate),\n",
    "            # First hidden layer (64 -> 16)\n",
    "            nn.Linear(64, 16),\n",
    "            nn.LeakyReLU(0.2),\n",
    "            nn.Dropout(dropout_rate),\n",
    "            # Second hidden layer (16 -> output)\n",
    "            nn.Linear(16, 1),\n",
    "            nn.Sigmoid(),\n",
    "        )\n",
    "\n",
    "    def forward(self, x):\n",
    "        return self.model(x)"
   ]
  },
  {
   "cell_type": "markdown",
   "metadata": {
    "id": "hwrXyNr2Cqwo"
   },
   "source": [
    "## 生成器\n"
   ]
  },
  {
   "cell_type": "code",
   "execution_count": 92,
   "metadata": {
    "id": "TQ6OlJLnCvMO"
   },
   "outputs": [],
   "source": [
    "# Quantum variables\n",
    "n_qubits = 7  # Total number of qubits / N\n",
    "n_a_qubits = 1  # Number of ancillary qubits / N_A\n",
    "q_depth = 6  # Depth of the parameterised quantum circuit / D\n",
    "n_generators = 64  # Number of subgenerators for the patch method / N_G"
   ]
  },
  {
   "cell_type": "code",
   "execution_count": 93,
   "metadata": {
    "id": "lW2ZDlfeC5cM"
   },
   "outputs": [],
   "source": [
    "# Quantum simulator\n",
    "dev = qml.device(\"lightning.gpu\", wires=n_qubits)\n",
    "# Enable CUDA device if available\n",
    "device = torch.device(\"cuda:0\" if torch.cuda.is_available() else \"cpu\")"
   ]
  },
  {
   "cell_type": "code",
   "execution_count": 94,
   "metadata": {
    "id": "BRb_c_DyC9an"
   },
   "outputs": [],
   "source": [
    "@qml.qnode(dev, diff_method=\"parameter-shift\")\n",
    "def quantum_circuit(noise, weights):\n",
    "    weights = weights.reshape(q_depth, n_qubits)\n",
    "\n",
    "    # Initialise latent vectors\n",
    "    for i in range(n_qubits):\n",
    "        qml.RY(noise[i], wires=i)\n",
    "\n",
    "    # Repeated layer\n",
    "    for i in range(q_depth):\n",
    "        # Parameterised layer\n",
    "        for y in range(n_qubits):\n",
    "            qml.RY(weights[i][y], wires=y)\n",
    "\n",
    "        # Control Z gates\n",
    "        for y in range(n_qubits - 1):\n",
    "            qml.CZ(wires=[y, y + 1])\n",
    "\n",
    "    return qml.probs(wires=list(range(n_qubits)))\n",
    "\n",
    "\n",
    "# For further info on how the non-linear transform is implemented in Pennylane\n",
    "# https://discuss.pennylane.ai/t/ancillary-subsystem-measurement-then-trace-out/1532\n",
    "def partial_measure(noise, weights):\n",
    "    # Non-linear Transform\n",
    "    probs = quantum_circuit(noise, weights)\n",
    "    probsgiven0 = probs[: (2 ** (n_qubits - n_a_qubits))]\n",
    "    probsgiven0 /= torch.sum(probs)\n",
    "\n",
    "    # Post-Processing\n",
    "    probsgiven = probsgiven0 / torch.max(probsgiven0)\n",
    "    return probsgiven"
   ]
  },
  {
   "cell_type": "code",
   "execution_count": 95,
   "metadata": {
    "id": "tTz3zeQCDGfV"
   },
   "outputs": [],
   "source": [
    "class PatchQuantumGenerator(nn.Module):\n",
    "    \"\"\"Quantum generator class for the patch method\"\"\"\n",
    "\n",
    "    def __init__(self, n_generators, q_delta=1):\n",
    "        \"\"\"\n",
    "        Args:\n",
    "            n_generators (int): Number of sub-generators to be used in the patch method.\n",
    "            q_delta (float, optional): Spread of the random distribution for parameter initialisation.\n",
    "        \"\"\"\n",
    "\n",
    "        super().__init__()\n",
    "\n",
    "        self.q_params = nn.ParameterList([\n",
    "            nn.Parameter(q_delta * torch.rand(q_depth * n_qubits), requires_grad=True)\n",
    "            for _ in range(n_generators)\n",
    "        ])\n",
    "        self.n_generators = n_generators\n",
    "\n",
    "    def forward(self, x):\n",
    "        # Size of each sub-generator output\n",
    "        patch_size = 2 ** (n_qubits - n_a_qubits)\n",
    "\n",
    "        # Create a Tensor to 'catch' a batch of images from the for loop. x.size(0) is the batch size.\n",
    "        images = torch.Tensor(x.size(0), 0).to(device)\n",
    "\n",
    "        # Iterate over all sub-generators\n",
    "        for params in self.q_params:\n",
    "            # Create a Tensor to 'catch' a batch of the patches from a single sub-generator\n",
    "            patches = torch.Tensor(0, patch_size).to(device)\n",
    "            for elem in x:\n",
    "                q_out = partial_measure(elem, params).float().unsqueeze(0)\n",
    "                patches = torch.cat((patches, q_out))\n",
    "\n",
    "            # Each batch of patches is concatenated with each other to create a batch of images\n",
    "            images = torch.cat((images, patches), 1)\n",
    "\n",
    "        return images"
   ]
  },
  {
   "cell_type": "markdown",
   "metadata": {
    "id": "oPrnYzKjDLqC"
   },
   "source": [
    "## 训练"
   ]
  },
  {
   "cell_type": "code",
   "execution_count": 96,
   "metadata": {
    "id": "NRheT4FuDKB6"
   },
   "outputs": [],
   "source": [
    "lrG = 0.3  # Learning rate for the generator\n",
    "lrD = 0.01  # Learning rate for the discriminator\n",
    "num_iter = 500  # Number of training iterations"
   ]
  },
  {
   "cell_type": "code",
   "execution_count": null,
   "metadata": {
    "colab": {
     "base_uri": "https://localhost:8080/"
    },
    "id": "l6JMfVEZGGrr",
    "outputId": "3006b0c1-971e-4ee1-9319-c393e6abda33"
   },
   "outputs": [],
   "source": [
    "discriminator = Discriminator().to(device)\n",
    "generator = PatchQuantumGenerator(n_generators).to(device)\n",
    "\n",
    "# Binary cross entropy\n",
    "criterion = nn.BCELoss()\n",
    "\n",
    "# Optimisers\n",
    "optD = optim.SGD(discriminator.parameters(), lr=lrD)\n",
    "optG = optim.SGD(generator.parameters(), lr=lrG)\n",
    "\n",
    "real_labels = torch.full((batch_size,), 1.0, dtype=torch.float, device=device)\n",
    "fake_labels = torch.full((batch_size,), 0.0, dtype=torch.float, device=device)\n",
    "\n",
    "# Fixed noise allows us to visually track the generated images throughout training\n",
    "fixed_noise = torch.rand(8, n_qubits, device=device) * math.pi / 2\n",
    "\n",
    "# 首先定义两个列表来存储判别器和生成器的损失值\n",
    "d_losses = []\n",
    "g_losses = []\n",
    "\n",
    "# 重置迭代计数器\n",
    "counter = 0\n",
    "\n",
    "# 收集图像用于后续绘图\n",
    "results = []\n",
    "\n",
    "while True:\n",
    "    for i, batch in enumerate(dataloader):\n",
    "        # 训练判别器的数据\n",
    "        data = batch[\"image\"].reshape(-1, image_size * image_size).float()\n",
    "        real_data = data.to(device)\n",
    "\n",
    "        # 随机噪声，均匀分布在 [0,pi/2) 范围内\n",
    "        noise = torch.rand(batch_size, n_qubits, device=device) * math.pi / 2\n",
    "        fake_data = generator(noise)\n",
    "\n",
    "        # 训练判别器\n",
    "        discriminator.zero_grad()\n",
    "        outD_real = discriminator(real_data).view(-1)\n",
    "        outD_fake = discriminator(fake_data.detach()).view(-1)\n",
    "\n",
    "        errD_real = criterion(outD_real, real_labels)\n",
    "        errD_fake = criterion(outD_fake, fake_labels)\n",
    "        # 反向传播梯度\n",
    "        errD_real.backward()\n",
    "        errD_fake.backward()\n",
    "\n",
    "        errD = errD_real + errD_fake\n",
    "        optD.step()\n",
    "\n",
    "        # 训练生成器\n",
    "        generator.zero_grad()\n",
    "        outD_fake = discriminator(fake_data).view(-1)\n",
    "        errG = criterion(outD_fake, real_labels)\n",
    "        errG.backward()\n",
    "        optG.step()\n",
    "\n",
    "        # 存储每一步的损失值\n",
    "        d_losses.append(errD.item())\n",
    "        g_losses.append(errG.item())\n",
    "\n",
    "        counter += 1\n",
    "\n",
    "        # 显示损失值\n",
    "        if counter % 10 == 0:\n",
    "            print(\n",
    "                f\"迭代次数: {counter}, 判别器损失: {errD:0.3f}, 生成器损失: {errG:0.3f}\"\n",
    "            )\n",
    "            test_images = (\n",
    "                generator(fixed_noise).view(8, 1, image_size, image_size).cpu().detach()\n",
    "            )\n",
    "\n",
    "            # 每50次迭代保存图像\n",
    "            if counter % 50 == 0:\n",
    "                results.append(test_images)\n",
    "\n",
    "        if counter == num_iter:\n",
    "            break\n",
    "    if counter == num_iter:\n",
    "        break\n",
    "\n",
    "# 绘制损失曲线\n",
    "plt.figure(figsize=(10, 5))\n",
    "plt.plot(d_losses, label=\"判别器损失\")\n",
    "plt.plot(g_losses, label=\"生成器损失\")\n",
    "plt.xlabel(\"迭代次数\")\n",
    "plt.ylabel(\"损失值\")\n",
    "plt.title(\"量子 GAN 训练损失\")\n",
    "plt.legend()\n",
    "plt.grid(True)\n",
    "plt.show()\n",
    "\n",
    "\n",
    "# 为了更清晰地看到趋势，可以使用移动平均\n",
    "def moving_average(data, window_size=50):\n",
    "    return [np.mean(data[max(0, i - window_size) : i + 1]) for i in range(len(data))]\n",
    "\n",
    "\n",
    "# 计算移动平均\n",
    "d_losses_avg = moving_average(d_losses)\n",
    "g_losses_avg = moving_average(g_losses)\n",
    "\n",
    "# 绘制平滑后的损失曲线\n",
    "plt.figure(figsize=(10, 5))\n",
    "plt.plot(d_losses_avg, label=\"判别器损失 (移动平均)\")\n",
    "plt.plot(g_losses_avg, label=\"生成器损失 (移动平均)\")\n",
    "plt.xlabel(\"迭代次数\")\n",
    "plt.ylabel(\"损失值\")\n",
    "plt.title(\"量子 GAN 训练损失 (移动平均)\")\n",
    "plt.legend()\n",
    "plt.grid(True)\n",
    "plt.show()"
   ]
  },
  {
   "cell_type": "code",
   "execution_count": 14,
   "metadata": {
    "colab": {
     "base_uri": "https://localhost:8080/",
     "height": 257
    },
    "id": "ZeprLJB_E6LS",
    "outputId": "d6e0b3fe-7142-4a5d-dcfa-89ae29eb8fa3"
   },
   "outputs": [
    {
     "data": {
      "image/png": "[encoded data removed]",
      "text/plain": [
       "<Figure size 1000x500 with 8 Axes>"
      ]
     },
     "metadata": {},
     "output_type": "display_data"
    }
   ],
   "source": [
    "fig = plt.figure(figsize=(10, 5))\n",
    "outer = gridspec.GridSpec(5, 2, wspace=0.1)\n",
    "\n",
    "for i, images in enumerate(results):\n",
    "    inner = gridspec.GridSpecFromSubplotSpec(1, images.size(0), subplot_spec=outer[i])\n",
    "\n",
    "    images = torch.squeeze(images, dim=1)\n",
    "    for j, im in enumerate(images):\n",
    "        ax = plt.Subplot(fig, inner[j])\n",
    "        ax.imshow(im.numpy(), cmap=\"gray\")\n",
    "        ax.set_xticks([])\n",
    "        ax.set_yticks([])\n",
    "        if j == 0:\n",
    "            ax.set_title(f\"Iteration {50 + i * 50}\", loc=\"left\")\n",
    "        fig.add_subplot(ax)\n",
    "\n",
    "plt.show()"
   ]
  }
 ],
 "metadata": {
  "accelerator": "GPU",
  "colab": {
   "gpuType": "T4",
   "provenance": []
  },
  "kernelspec": {
   "display_name": "torch",
   "language": "python",
   "name": "python3"
  },
  "language_info": {
   "codemirror_mode": {
    "name": "ipython",
    "version": 3
   },
   "file_extension": ".py",
   "mimetype": "text/x-python",
   "name": "python",
   "nbconvert_exporter": "python",
   "pygments_lexer": "ipython3",
   "version": "3.11.11"
  }
 },
 "nbformat": 4,
 "nbformat_minor": 0
}
